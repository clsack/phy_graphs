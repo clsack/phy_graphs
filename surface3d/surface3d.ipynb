{
 "cells": [
  {
   "cell_type": "code",
   "execution_count": 2,
   "metadata": {},
   "outputs": [
    {
     "data": {
      "text/html": [
       "<div style=\"display: table;\"><div style=\"display: table-row;\"><div style=\"display: table-cell;\"><b title=\"__main__.Surface3d\">Surface3d</b>(</div><div style=\"display: table-cell;\">id&nbsp;=&nbsp;'1006', <span id=\"1008\" style=\"cursor: pointer;\">&hellip;)</span></div></div><div class=\"1007\" style=\"display: none;\"><div style=\"display: table-cell;\"></div><div style=\"display: table-cell;\">align&nbsp;=&nbsp;'start',</div></div><div class=\"1007\" style=\"display: none;\"><div style=\"display: table-cell;\"></div><div style=\"display: table-cell;\">aspect_ratio&nbsp;=&nbsp;None,</div></div><div class=\"1007\" style=\"display: none;\"><div style=\"display: table-cell;\"></div><div style=\"display: table-cell;\">background&nbsp;=&nbsp;None,</div></div><div class=\"1007\" style=\"display: none;\"><div style=\"display: table-cell;\"></div><div style=\"display: table-cell;\">css_classes&nbsp;=&nbsp;[],</div></div><div class=\"1007\" style=\"display: none;\"><div style=\"display: table-cell;\"></div><div style=\"display: table-cell;\">data_source&nbsp;=&nbsp;ColumnDataSource(id='1005', ...),</div></div><div class=\"1007\" style=\"display: none;\"><div style=\"display: table-cell;\"></div><div style=\"display: table-cell;\">disabled&nbsp;=&nbsp;False,</div></div><div class=\"1007\" style=\"display: none;\"><div style=\"display: table-cell;\"></div><div style=\"display: table-cell;\">height&nbsp;=&nbsp;600,</div></div><div class=\"1007\" style=\"display: none;\"><div style=\"display: table-cell;\"></div><div style=\"display: table-cell;\">height_policy&nbsp;=&nbsp;'auto',</div></div><div class=\"1007\" style=\"display: none;\"><div style=\"display: table-cell;\"></div><div style=\"display: table-cell;\">js_event_callbacks&nbsp;=&nbsp;{},</div></div><div class=\"1007\" style=\"display: none;\"><div style=\"display: table-cell;\"></div><div style=\"display: table-cell;\">js_property_callbacks&nbsp;=&nbsp;{},</div></div><div class=\"1007\" style=\"display: none;\"><div style=\"display: table-cell;\"></div><div style=\"display: table-cell;\">margin&nbsp;=&nbsp;(0, 0, 0, 0),</div></div><div class=\"1007\" style=\"display: none;\"><div style=\"display: table-cell;\"></div><div style=\"display: table-cell;\">max_height&nbsp;=&nbsp;None,</div></div><div class=\"1007\" style=\"display: none;\"><div style=\"display: table-cell;\"></div><div style=\"display: table-cell;\">max_width&nbsp;=&nbsp;None,</div></div><div class=\"1007\" style=\"display: none;\"><div style=\"display: table-cell;\"></div><div style=\"display: table-cell;\">min_height&nbsp;=&nbsp;None,</div></div><div class=\"1007\" style=\"display: none;\"><div style=\"display: table-cell;\"></div><div style=\"display: table-cell;\">min_width&nbsp;=&nbsp;None,</div></div><div class=\"1007\" style=\"display: none;\"><div style=\"display: table-cell;\"></div><div style=\"display: table-cell;\">name&nbsp;=&nbsp;None,</div></div><div class=\"1007\" style=\"display: none;\"><div style=\"display: table-cell;\"></div><div style=\"display: table-cell;\">sizing_mode&nbsp;=&nbsp;None,</div></div><div class=\"1007\" style=\"display: none;\"><div style=\"display: table-cell;\"></div><div style=\"display: table-cell;\">subscribed_events&nbsp;=&nbsp;[],</div></div><div class=\"1007\" style=\"display: none;\"><div style=\"display: table-cell;\"></div><div style=\"display: table-cell;\">tags&nbsp;=&nbsp;[],</div></div><div class=\"1007\" style=\"display: none;\"><div style=\"display: table-cell;\"></div><div style=\"display: table-cell;\">visible&nbsp;=&nbsp;True,</div></div><div class=\"1007\" style=\"display: none;\"><div style=\"display: table-cell;\"></div><div style=\"display: table-cell;\">width&nbsp;=&nbsp;600,</div></div><div class=\"1007\" style=\"display: none;\"><div style=\"display: table-cell;\"></div><div style=\"display: table-cell;\">width_policy&nbsp;=&nbsp;'auto',</div></div><div class=\"1007\" style=\"display: none;\"><div style=\"display: table-cell;\"></div><div style=\"display: table-cell;\">x&nbsp;=&nbsp;'x',</div></div><div class=\"1007\" style=\"display: none;\"><div style=\"display: table-cell;\"></div><div style=\"display: table-cell;\">y&nbsp;=&nbsp;'y',</div></div><div class=\"1007\" style=\"display: none;\"><div style=\"display: table-cell;\"></div><div style=\"display: table-cell;\">z&nbsp;=&nbsp;'z')</div></div></div>\n",
       "<script>\n",
       "(function() {\n",
       "  var expanded = false;\n",
       "  var ellipsis = document.getElementById(\"1008\");\n",
       "  ellipsis.addEventListener(\"click\", function() {\n",
       "    var rows = document.getElementsByClassName(\"1007\");\n",
       "    for (var i = 0; i < rows.length; i++) {\n",
       "      var el = rows[i];\n",
       "      el.style.display = expanded ? \"none\" : \"table-row\";\n",
       "    }\n",
       "    ellipsis.innerHTML = expanded ? \"&hellip;)\" : \"&lsaquo;&lsaquo;&lsaquo;\";\n",
       "    expanded = !expanded;\n",
       "  });\n",
       "})();\n",
       "</script>\n"
      ],
      "text/plain": [
       "Surface3d(id='1006', ...)"
      ]
     },
     "metadata": {},
     "output_type": "display_data"
    }
   ],
   "source": [
    "from __future__ import division\n",
    "%matplotlib inline\n",
    "from ipywidgets import interact, interactive\n",
    "from IPython.display import clear_output, display, HTML\n",
    "\n",
    "# Standard library imports\n",
    "\n",
    "\n",
    "# Related third party imports\n",
    "import numpy as np\n",
    "\n",
    "# Local application/library specific imports\n",
    "from bokeh.core.properties import Instance, String\n",
    "from bokeh.models import ColumnDataSource, LayoutDOM\n",
    "from bokeh.io import show\n",
    "from bokeh.util.compiler import TypeScript\n",
    "from jsutils import TS_CODE\n",
    "\n",
    "%matplotlib notebook\n",
    "\n",
    "# This custom extension model will have a DOM view that should layout-able in\n",
    "# Bokeh layouts, so use ``LayoutDOM`` as the base class. If you wanted to create\n",
    "# a custom tool, you could inherit from ``Tool``, or from ``Glyph`` if you\n",
    "# wanted to create a custom glyph, etc.\n",
    "class Surface3d(LayoutDOM):\n",
    "\n",
    "    # The special class attribute ``__implementation__`` should contain a string\n",
    "    # of JavaScript (or CoffeeScript) code that implements the JavaScript side\n",
    "    # of the custom extension model.\n",
    "    __implementation__ = TypeScript(TS_CODE)\n",
    "\n",
    "    # Below are all the \"properties\" for this model. Bokeh properties are\n",
    "    # class attributes that define the fields (and their types) that can be\n",
    "    # communicated automatically between Python and the browser. Properties\n",
    "    # also support type validation. More information about properties in\n",
    "    # can be found here:\n",
    "    #\n",
    "    #    https://docs.bokeh.org/en/latest/docs/reference/core/properties.html#bokeh-core-properties\n",
    "\n",
    "    # This is a Bokeh ColumnDataSource that can be updated in the Bokeh\n",
    "    # server by Python code\n",
    "    data_source = Instance(ColumnDataSource)\n",
    "\n",
    "    # The vis.js library that we are wrapping expects data for x, y, and z.\n",
    "    # The data will actually be stored in the ColumnDataSource, but these\n",
    "    # properties let us specify the *name* of the column that should be\n",
    "    # used for each field.\n",
    "    x = String\n",
    "\n",
    "    y = String\n",
    "\n",
    "    z = String\n",
    "\n",
    "\n",
    "x = np.arange(0, 300, 10)\n",
    "y = np.arange(0, 300, 10)\n",
    "xx, yy = np.meshgrid(x, y)\n",
    "xx = xx.ravel()\n",
    "yy = yy.ravel()\n",
    "value = np.sin(xx / 50) * np.cos(yy / 50) * 50 + 50\n",
    "\n",
    "source = ColumnDataSource(data=dict(x=xx, y=yy, z=value))\n",
    "\n",
    "surface = Surface3d(x=\"x\", y=\"y\", z=\"z\", data_source=source, width=600, height=600)\n",
    "\n",
    "display(surface)\n"
   ]
  },
  {
   "cell_type": "code",
   "execution_count": null,
   "metadata": {},
   "outputs": [],
   "source": []
  }
 ],
 "metadata": {
  "kernelspec": {
   "display_name": "Python 3",
   "language": "python",
   "name": "python3"
  },
  "language_info": {
   "codemirror_mode": {
    "name": "ipython",
    "version": 3
   },
   "file_extension": ".py",
   "mimetype": "text/x-python",
   "name": "python",
   "nbconvert_exporter": "python",
   "pygments_lexer": "ipython3",
   "version": "3.7.4"
  }
 },
 "nbformat": 4,
 "nbformat_minor": 2
}
