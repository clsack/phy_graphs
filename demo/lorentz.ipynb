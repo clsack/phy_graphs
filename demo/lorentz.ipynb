{
  "cells": [
    {
      "metadata": {
        "trusted": true
      },
      "cell_type": "code",
      "source": "%matplotlib inline\nfrom ipywidgets import interact, interactive\nfrom IPython.display import clear_output, display, HTML\n\nimport numpy as np\nfrom scipy import integrate\n\nfrom matplotlib import pyplot as plt\nfrom mpl_toolkits.mplot3d import Axes3D\nfrom matplotlib.colors import cnames\nfrom matplotlib import animation\n\ndef solve_lorenz(N=10, angle=0.0, max_time=4.0, sigma=10.0, beta=8./3, rho=28.0):\n\n    fig = plt.figure()\n    ax = fig.add_axes([0, 0, 1, 1], projection='3d')\n    ax.axis('off')\n\n    # prepare the axes limits\n    ax.set_xlim((-25, 25))\n    ax.set_ylim((-35, 35))\n    ax.set_zlim((5, 55))\n\n    def lorenz_deriv(x_y_z, t0, sigma=sigma, beta=beta, rho=rho):\n        \"\"\"Compute the time-derivative of a Lorenz system.\"\"\"\n        x, y, z = x_y_z\n        return [sigma * (y - x), x * (rho - z) - y, x * y - beta * z]\n\n    # Choose random starting points, uniformly distributed from -15 to 15\n    np.random.seed(1)\n    x0 = -15 + 30 * np.random.random((N, 3))\n\n    # Solve for the trajectories\n    t = np.linspace(0, max_time, int(250*max_time))\n    x_t = np.asarray([integrate.odeint(lorenz_deriv, x0i, t)\n                      for x0i in x0])\n\n    # choose a different color for each trajectory\n    colors = plt.cm.viridis(np.linspace(0, 1, N))\n\n    for i in range(N):\n        x, y, z = x_t[i,:,:].T\n        lines = ax.plot(x, y, z, '-', c=colors[i])\n        plt.setp(lines, linewidth=2)\n\n    ax.view_init(30, angle)\n    plt.show()\n\n    return t, x_t\n\nw = interactive(solve_lorenz, angle=(0.,360.), max_time=(0.1, 4.0),\n                N=(0,50), sigma=(0.0,50.0), rho=(0.0,50.0))\ndisplay(w)",
      "execution_count": 1,
      "outputs": [
        {
          "output_type": "display_data",
          "data": {
            "application/vnd.jupyter.widget-view+json": {
              "model_id": "335c0cbf520241cab613a6d6d77d3244",
              "version_minor": 0,
              "version_major": 2
            },
            "text/plain": "interactive(children=(IntSlider(value=10, description='N', max=50), FloatSlider(value=0.0, description='angle'…"
          },
          "metadata": {}
        }
      ]
    },
    {
      "metadata": {
        "trusted": true
      },
      "cell_type": "code",
      "source": "",
      "execution_count": null,
      "outputs": []
    }
  ],
  "metadata": {
    "kernelspec": {
      "name": "python36",
      "display_name": "Python 3.6",
      "language": "python"
    },
    "language_info": {
      "mimetype": "text/x-python",
      "nbconvert_exporter": "python",
      "name": "python",
      "pygments_lexer": "ipython3",
      "version": "3.6.6",
      "file_extension": ".py",
      "codemirror_mode": {
        "version": 3,
        "name": "ipython"
      }
    }
  },
  "nbformat": 4,
  "nbformat_minor": 2
}